{
 "cells": [
  {
   "cell_type": "markdown",
   "metadata": {},
   "source": [
    "<center><font size = 8><b>Digital Image Processing</b></font></center><br/><br/>\n",
    "<center><font size = 6><b>Assignment 1</b></font></center>\n",
    "\n",
    "### Name:\n",
    "### ID:\n",
    "### Email:"
   ]
  },
  {
   "cell_type": "code",
   "execution_count": null,
   "metadata": {},
   "outputs": [],
   "source": [
    "import cv2\n",
    "import numpy as np\n",
    "from matplotlib import pyplot as plt\n",
    "%matplotlib inline"
   ]
  },
  {
   "cell_type": "markdown",
   "metadata": {},
   "source": [
    "# 1. Histogram Equalization"
   ]
  },
  {
   "cell_type": "markdown",
   "metadata": {},
   "source": [
    "Histogram equalization is the process used to transfer the gray levels so that the histogram of the resulting image is equalized to be a constant (theoretically).\n",
    "<font size=\"5\"><p style=\"text-align: center;\">$s_{k} = T(r_{k}) = \\frac{L-1}{MN}\\sum \\limits _{j=1} ^{k}n_{j}$</p></font><br/>\n",
    "<font size=\"3\">where:<br/>s: is the output intensity<br/> k: is the intensity level contour = $ 0, 1, 2,....., L - 1$<br/>  L: total number of intensity levels<br/>  $n_{j}$: histogram result at intensity j (pixels number of intensity j)<br/>$MN$: is the image size</font><br/><br/>\n",
    "<font size=\"3\">*In this section, you will apply histogram equalization algorithm on a low-contrast image.*</font>"
   ]
  },
  {
   "cell_type": "code",
   "execution_count": null,
   "metadata": {},
   "outputs": [],
   "source": [
    "# Read the low_contrast image\n",
    "low_contrast = cv2.imread(\"low_contrast_image.jpg\", cv2.IMREAD_GRAYSCALE)\n",
    "\n",
    "# TODO: Display the low contrast image using plt. Note that it is a grayscale image\n"
   ]
  },
  {
   "cell_type": "code",
   "execution_count": null,
   "metadata": {},
   "outputs": [],
   "source": [
    "# TODO: Find the histogram of the image\n",
    "\n",
    "\n",
    "# TODO: Plot the histogram with x-label: Intensity, y-label: Pixels number, title: Histogram of low contrast image\n"
   ]
  },
  {
   "cell_type": "code",
   "execution_count": null,
   "metadata": {},
   "outputs": [],
   "source": [
    "# Convert the histogram array to 1D\n",
    "h = h.ravel()\n",
    "# Create a copy of the original image\n",
    "equalized_image = np.copy(low_contrast)\n",
    "\n",
    "# Initialize sum, L, M, N\n",
    "sum = 0\n",
    "L = h.shape[0]\n",
    "M, N = low_contrast.shape\n",
    "\n",
    "# Create an empty vector to hold the transformation function points\n",
    "T = np.zeros((256, 1), np.uint8)"
   ]
  },
  {
   "cell_type": "code",
   "execution_count": null,
   "metadata": {},
   "outputs": [],
   "source": [
    "# TODO: Loop over 1D array of histogram to calculate s value of each k\n",
    "# 1. Modify the sum\n",
    "# 2. Compute s value\n",
    "# 3. Round s to the nearest integer\n",
    "# 4. Replace r intensities in the original image with the computed s intensity\n",
    "# 5. Add a point (r,s) to the T vector\n"
   ]
  },
  {
   "cell_type": "code",
   "execution_count": null,
   "metadata": {},
   "outputs": [],
   "source": [
    "# TODO: Plot the transformation function\n"
   ]
  },
  {
   "cell_type": "code",
   "execution_count": null,
   "metadata": {},
   "outputs": [],
   "source": [
    "# TODO: Plot the histogram after equalization\n",
    "# Use x-label: Intensity, y-label: Pixels number, title: Histogram of equalized image\n"
   ]
  },
  {
   "cell_type": "code",
   "execution_count": null,
   "metadata": {},
   "outputs": [],
   "source": [
    "# TODO: Display the low contrast and the new equalized images using plt\n"
   ]
  },
  {
   "cell_type": "markdown",
   "metadata": {},
   "source": [
    "# 2. Medical Imaging"
   ]
  },
  {
   "cell_type": "markdown",
   "metadata": {},
   "source": [
    "Image processing has become a cornerstone in the medical field improving the way healthcare professionals diagnose and treat patients. By leveraging advanced algorithms and imaging techniques, medical image processing allows for detailed, non-invasive exploration exploration of the human body.<br/><br/>\n",
    "One of the key benefits of medical image processing is its ability to enhance the clarity and detail of medical images.<br/>In this section, you will apply some image enhancement techniques to improve the quality of a medical image."
   ]
  },
  {
   "cell_type": "code",
   "execution_count": null,
   "metadata": {},
   "outputs": [],
   "source": [
    "# Read the medical image\n",
    "medical_image = cv2.imread(\"medical.png\", cv2.IMREAD_GRAYSCALE)\n",
    "# TODO: Create a pipeline to enhance the quality of the medical image\n",
    "#       Support your answer with various useful plots"
   ]
  }
 ],
 "metadata": {
  "kernelspec": {
   "display_name": "Python 3",
   "language": "python",
   "name": "python3"
  },
  "language_info": {
   "codemirror_mode": {
    "name": "ipython",
    "version": 3
   },
   "file_extension": ".py",
   "mimetype": "text/x-python",
   "name": "python",
   "nbconvert_exporter": "python",
   "pygments_lexer": "ipython3",
   "version": "3.8.5"
  }
 },
 "nbformat": 4,
 "nbformat_minor": 5
}
